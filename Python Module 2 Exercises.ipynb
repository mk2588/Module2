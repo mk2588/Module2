{
 "cells": [
  {
   "cell_type": "markdown",
   "metadata": {},
   "source": [
    "1. Print out a data type of a variable?"
   ]
  },
  {
   "cell_type": "code",
   "execution_count": 1,
   "metadata": {},
   "outputs": [
    {
     "data": {
      "text/plain": [
       "int"
      ]
     },
     "execution_count": 1,
     "metadata": {},
     "output_type": "execute_result"
    }
   ],
   "source": [
    "message = 3\n",
    "type(message)"
   ]
  },
  {
   "cell_type": "markdown",
   "metadata": {},
   "source": [
    "2. Round 4.5667 to the nearest hundreth using a build-in function, round()."
   ]
  },
  {
   "cell_type": "code",
   "execution_count": 2,
   "metadata": {},
   "outputs": [
    {
     "data": {
      "text/plain": [
       "4.57"
      ]
     },
     "execution_count": 2,
     "metadata": {},
     "output_type": "execute_result"
    }
   ],
   "source": [
    "round(4.5667,2)"
   ]
  },
  {
   "cell_type": "markdown",
   "metadata": {},
   "source": [
    "3. Convert \"657\" to an integer data type"
   ]
  },
  {
   "cell_type": "code",
   "execution_count": 4,
   "metadata": {},
   "outputs": [
    {
     "name": "stdout",
     "output_type": "stream",
     "text": [
      "num_string has a value of 657 and the daya type is <class 'str'>\n",
      "num_int has a value of 657 and the daya type is <class 'int'>\n"
     ]
    }
   ],
   "source": [
    "num_string = \"657\"\n",
    "type(num_string)\n",
    "num_int = int(num_string)\n",
    "type(num_int)\n",
    "\n",
    "print(f\"num_string has a value of {num_string} and the daya type is {type(num_string)}\")\n",
    "print(f\"num_int has a value of {num_int} and the daya type is {type(num_int)}\")"
   ]
  },
  {
   "cell_type": "markdown",
   "metadata": {},
   "source": [
    "4. Write a function to calculate the miles per gallon.\n",
    "Get a miles driven and gallons used from a user and call your function to calculate the miles per gallon. "
   ]
  },
  {
   "cell_type": "code",
   "execution_count": 17,
   "metadata": {},
   "outputs": [
    {
     "name": "stdout",
     "output_type": "stream",
     "text": [
      "The Miles per Gallon App!\n"
     ]
    },
    {
     "name": "stdin",
     "output_type": "stream",
     "text": [
      "Enter miles driven: 10\n",
      "Enter gallons of gas used:  5\n"
     ]
    },
    {
     "name": "stdout",
     "output_type": "stream",
     "text": [
      "Miles per gallon: 2\n"
     ]
    }
   ],
   "source": [
    "# Diplay message\n",
    "print(\"The Miles per Gallon App!\")\n",
    "\n",
    "# Define a function\n",
    "def miles_per_gallon():\n",
    "    miles = int(input(\"Enter miles driven:\"))\n",
    "    gallons = int(input(\"Enter gallons of gas used: \"))\n",
    "    mpg = miles/gallons\n",
    "    mpg = round(mpg, 2)\n",
    "    print(f\"Miles per gallon: {int(mpg)}\")\n",
    "    \n",
    "miles_per_gallon()"
   ]
  },
  {
   "cell_type": "markdown",
   "metadata": {},
   "source": [
    "5. Enhance your function from exercise 3. Additionally, get a gas price per gallon from a user and write a program to compute the total gas cost and cost per mile. \n",
    "\n",
    "The output should look something like this:\n",
    "\n",
    "    Enter miles driven:            150\n",
    "    Enter gallons of gas used:     15\n",
    "    Enter cost per gallon:          3\n",
    "\n",
    "    Miles Per Gallon:   10.0\n",
    "    Total Gas Cost:     45.0\n",
    "    Cost per Mile:      0.3\n"
   ]
  },
  {
   "cell_type": "code",
   "execution_count": 15,
   "metadata": {},
   "outputs": [
    {
     "name": "stdout",
     "output_type": "stream",
     "text": [
      "The Miles per Gallon App!\n"
     ]
    },
    {
     "name": "stdin",
     "output_type": "stream",
     "text": [
      "Enter miles driven: 150\n",
      "Enter gallons of gas used:  15\n",
      "Enter cost per gallon:  3\n"
     ]
    },
    {
     "name": "stdout",
     "output_type": "stream",
     "text": [
      "Miles Per Gallon: 10\n",
      "Total Gas Cost: 45\n",
      "Cost Per Mile: 0\n"
     ]
    }
   ],
   "source": [
    "# Diplay message\n",
    "print(\"The Miles per Gallon App!\")\n",
    "\n",
    "# Define a function\n",
    "def miles_per_gallon():\n",
    "    miles = int(input(\"Enter miles driven:\"))\n",
    "    gallons = int(input(\"Enter gallons of gas used: \"))\n",
    "    cost = float(input(\"Enter cost per gallon: \"))\n",
    "    mpg = miles/gallons\n",
    "    mpg = round(mpg, 2)\n",
    "    total_cost = cost * gallons\n",
    "    total_cost = round(total_cost,2)\n",
    "    cost_per_mile = round(total_cost/miles,2)\n",
    "    print(f\"Miles Per Gallon: {int(mpg)}\")\n",
    "    print(f\"Total Gas Cost: {int(total_cost)}\")\n",
    "    print(f\"Cost Per Mile: {int(cost_per_mile)}\")\n",
    "    \n",
    "miles_per_gallon()"
   ]
  },
  {
   "cell_type": "markdown",
   "metadata": {},
   "source": [
    "6. Write a function called multiply_two() that accepts two parameters. The function should print a message like '15 + 2 = 17'.  Randomly generate two numbers between 1 and 100, then call the function with the two random numbers."
   ]
  },
  {
   "cell_type": "code",
   "execution_count": 18,
   "metadata": {},
   "outputs": [
    {
     "name": "stdout",
     "output_type": "stream",
     "text": [
      "8 + 77 = 85\n"
     ]
    }
   ],
   "source": [
    "import random as rand\n",
    "def add_two(rand1,rand2):\n",
    "    print(f\"{rand1} + {rand2} = {rand1+rand2}\")\n",
    "\n",
    "add_two(rand.randint(1,100),rand.randint(1,100))"
   ]
  },
  {
   "cell_type": "markdown",
   "metadata": {},
   "source": [
    "7. Write a function called make_shirt() that accepts a size and the text of a message. The function should print a sentence summarizing the size of the shirt and the message printed on it. The default shirt size is large and default message is 'I love Python!' Make a default size shirt with a message, a medium shirt with the default message, and a shirt of any size with a different message."
   ]
  },
  {
   "cell_type": "code",
   "execution_count": 21,
   "metadata": {},
   "outputs": [
    {
     "name": "stdout",
     "output_type": "stream",
     "text": [
      "The size of the shirt is L and the message is Virginia is for Lovers\n",
      "The size of the shirt is M and the message is I love Python!\n",
      "The size of the shirt is S and the message is I love VA!\n"
     ]
    }
   ],
   "source": [
    "def make_shirt(size = 'L', msg = 'I love Python!'):\n",
    "    print(f\"The size of the shirt is {size} and the message is {msg}\")\n",
    "    \n",
    "make_shirt(msg='Virginia is for Lovers')\n",
    "make_shirt('M')\n",
    "make_shirt('S','I love VA!')"
   ]
  },
  {
   "cell_type": "markdown",
   "metadata": {},
   "source": [
    "8. Create a function for a multiplication table.  Get a number from a user and then call you function which produces a multiplication table for that number.\n",
    "The output should look something like this:\n",
    "\n",
    "        Enter a number: 3\n",
    "        3 X 1 = 3\n",
    "        3 X 2 = 6\n",
    "        3 X 3 = 9\n",
    "        3 X 4 = 12\n",
    "        3 X 5 = 15\n",
    "        3 X 6 = 18\n",
    "        3 X 7 = 21\n",
    "        3 X 8 = 24\n",
    "        3 X 9 = 27\n",
    "        "
   ]
  },
  {
   "cell_type": "code",
   "execution_count": 30,
   "metadata": {},
   "outputs": [
    {
     "name": "stdin",
     "output_type": "stream",
     "text": [
      "Enter a number:  3\n"
     ]
    },
    {
     "name": "stdout",
     "output_type": "stream",
     "text": [
      "3 X 1 = 3\n",
      "3 X 2 = 6\n",
      "3 X 3 = 9\n",
      "3 X 4 = 12\n",
      "3 X 5 = 15\n",
      "3 X 6 = 18\n",
      "3 X 7 = 21\n",
      "3 X 8 = 24\n",
      "3 X 9 = 27\n"
     ]
    }
   ],
   "source": [
    "def mul_table(num):\n",
    "    print(f\"{num} X 1 = {num * 1}\")\n",
    "    print(f\"{num} X 2 = {num * 2}\")\n",
    "    print(f\"{num} X 3 = {num * 3}\")\n",
    "    print(f\"{num} X 4 = {num * 4}\")\n",
    "    print(f\"{num} X 5 = {num * 5}\")\n",
    "    print(f\"{num} X 6 = {num * 6}\")\n",
    "    print(f\"{num} X 7 = {num * 7}\")\n",
    "    print(f\"{num} X 8 = {num * 8}\")\n",
    "    print(f\"{num} X 9 = {num * 9}\")\n",
    "\n",
    "number = int(input(\"Enter a number: \"))\n",
    "mul_table(number)"
   ]
  },
  {
   "cell_type": "markdown",
   "metadata": {},
   "source": [
    "9. Write a function that accepts a string and returns a string that is \n",
    "    - without any leading nor trailing blanks\n",
    "    - converts to all capital letters\n",
    "    - and replaces all blanks with a period(.).  \n",
    "\n",
    "Write a program to accept a string from a user then call your function and display the original string and changed string.  \n",
    "\n",
    "The output should look something like this:\n",
    "\n",
    "        Enter a text: may your dreams come true\n",
    "        \n",
    "        Original Text: may your dreams come true\n",
    "        New Text: MAY.YOUR.DREAMS.COME.TRUE"
   ]
  },
  {
   "cell_type": "code",
   "execution_count": 32,
   "metadata": {},
   "outputs": [
    {
     "name": "stdin",
     "output_type": "stream",
     "text": [
      "Enter a text:    may your dreams come true\n"
     ]
    },
    {
     "name": "stdout",
     "output_type": "stream",
     "text": [
      "Original Text:   may your dreams come true\n",
      "New Text: MAY.YOUR.DREAMS.COME.TRUE\n"
     ]
    }
   ],
   "source": [
    "def convert_text(org_text):\n",
    "    temp_str = org_text.strip()\n",
    "    temp_str = temp_str.upper()\n",
    "    temp_str = temp_str.replace(\" \",\".\")\n",
    "    return temp_str\n",
    "user_text = input(\"Enter a text: \")\n",
    "new_text = convert_text(user_text)\n",
    "\n",
    "print(f\"Original Text: {user_text}\")\n",
    "print(f\"New Text: {new_text}\")"
   ]
  },
  {
   "cell_type": "markdown",
   "metadata": {},
   "source": [
    "10. Write a function that returns a randomly selected character from a passed string. Write a program to accept a string from a user then call your function and display the original string and selected character.\n",
    "\n",
    "The output should look something like this:\n",
    "\n",
    "        Enter a text: functions\n",
    "        Original Text:\tfunctions\n",
    "        Random character:\ts"
   ]
  },
  {
   "cell_type": "code",
   "execution_count": 40,
   "metadata": {},
   "outputs": [
    {
     "name": "stdin",
     "output_type": "stream",
     "text": [
      "Enter a text:  functions\n"
     ]
    },
    {
     "name": "stdout",
     "output_type": "stream",
     "text": [
      "Original Text: functions\n",
      "Random character: s\n"
     ]
    }
   ],
   "source": [
    "import random as rand\n",
    "def random(msg):\n",
    "    cont = len(msg)\n",
    "    rand_om = rand.randint(0, cont-1)\n",
    "    print(f\"Random character: {msg[rand_om]}\") # [] used to access a specific character in a string\n",
    "\n",
    "msg = input(\"Enter a text: \")\n",
    "print(f\"Original Text: {msg}\")\n",
    "random(msg)"
   ]
  },
  {
   "cell_type": "code",
   "execution_count": null,
   "metadata": {},
   "outputs": [],
   "source": []
  }
 ],
 "metadata": {
  "kernelspec": {
   "display_name": "Python 3",
   "language": "python",
   "name": "python3"
  },
  "language_info": {
   "codemirror_mode": {
    "name": "ipython",
    "version": 3
   },
   "file_extension": ".py",
   "mimetype": "text/x-python",
   "name": "python",
   "nbconvert_exporter": "python",
   "pygments_lexer": "ipython3",
   "version": "3.8.8"
  }
 },
 "nbformat": 4,
 "nbformat_minor": 4
}
